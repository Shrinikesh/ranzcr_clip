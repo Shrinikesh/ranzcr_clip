{
 "cells": [
  {
   "cell_type": "code",
   "execution_count": 2,
   "metadata": {},
   "outputs": [],
   "source": [
    "import pandas as pd\n",
    "import seaborn as sns\n",
    "import numpy as np\n",
    "from pathlib import Path\n",
    "from matplotlib import pyplot as plt\n",
    "import os\n",
    "from collections import defaultdict\n",
    "import cv2\n",
    "import ast\n",
    "\n",
    "%matplotlib inline"
   ]
  },
  {
   "cell_type": "markdown",
   "metadata": {},
   "source": [
    "## Train.csv"
   ]
  },
  {
   "cell_type": "code",
   "execution_count": 3,
   "metadata": {},
   "outputs": [],
   "source": [
    "raw_data_path = Path('/Users/Shrinikesh/Documents/personal-projects/kaggle/ranzcr_clip/data/raw')\n",
    "raw_image_data_path = Path('/Users/Shrinikesh/Documents/personal-projects/kaggle/ranzcr_clip/data/raw/train')\n",
    "train_data_path = raw_data_path / 'train.csv'"
   ]
  },
  {
   "cell_type": "code",
   "execution_count": 4,
   "metadata": {},
   "outputs": [
    {
     "data": {
      "text/html": [
       "<div>\n",
       "<style scoped>\n",
       "    .dataframe tbody tr th:only-of-type {\n",
       "        vertical-align: middle;\n",
       "    }\n",
       "\n",
       "    .dataframe tbody tr th {\n",
       "        vertical-align: top;\n",
       "    }\n",
       "\n",
       "    .dataframe thead th {\n",
       "        text-align: right;\n",
       "    }\n",
       "</style>\n",
       "<table border=\"1\" class=\"dataframe\">\n",
       "  <thead>\n",
       "    <tr style=\"text-align: right;\">\n",
       "      <th></th>\n",
       "      <th>ETT - Abnormal</th>\n",
       "      <th>ETT - Borderline</th>\n",
       "      <th>ETT - Normal</th>\n",
       "      <th>NGT - Abnormal</th>\n",
       "      <th>NGT - Borderline</th>\n",
       "      <th>NGT - Incompletely Imaged</th>\n",
       "      <th>NGT - Normal</th>\n",
       "      <th>CVC - Abnormal</th>\n",
       "      <th>CVC - Borderline</th>\n",
       "      <th>CVC - Normal</th>\n",
       "      <th>Swan Ganz Catheter Present</th>\n",
       "      <th>PatientID</th>\n",
       "    </tr>\n",
       "    <tr>\n",
       "      <th>StudyInstanceUID</th>\n",
       "      <th></th>\n",
       "      <th></th>\n",
       "      <th></th>\n",
       "      <th></th>\n",
       "      <th></th>\n",
       "      <th></th>\n",
       "      <th></th>\n",
       "      <th></th>\n",
       "      <th></th>\n",
       "      <th></th>\n",
       "      <th></th>\n",
       "      <th></th>\n",
       "    </tr>\n",
       "  </thead>\n",
       "  <tbody>\n",
       "    <tr>\n",
       "      <th>1.2.826.0.1.3680043.8.498.26697628953273228189375557799582420561</th>\n",
       "      <td>0</td>\n",
       "      <td>0</td>\n",
       "      <td>0</td>\n",
       "      <td>0</td>\n",
       "      <td>0</td>\n",
       "      <td>0</td>\n",
       "      <td>1</td>\n",
       "      <td>0</td>\n",
       "      <td>0</td>\n",
       "      <td>0</td>\n",
       "      <td>0</td>\n",
       "      <td>ec89415d1</td>\n",
       "    </tr>\n",
       "    <tr>\n",
       "      <th>1.2.826.0.1.3680043.8.498.46302891597398758759818628675365157729</th>\n",
       "      <td>0</td>\n",
       "      <td>0</td>\n",
       "      <td>1</td>\n",
       "      <td>0</td>\n",
       "      <td>0</td>\n",
       "      <td>1</td>\n",
       "      <td>0</td>\n",
       "      <td>0</td>\n",
       "      <td>0</td>\n",
       "      <td>1</td>\n",
       "      <td>0</td>\n",
       "      <td>bf4c6da3c</td>\n",
       "    </tr>\n",
       "    <tr>\n",
       "      <th>1.2.826.0.1.3680043.8.498.23819260719748494858948050424870692577</th>\n",
       "      <td>0</td>\n",
       "      <td>0</td>\n",
       "      <td>0</td>\n",
       "      <td>0</td>\n",
       "      <td>0</td>\n",
       "      <td>0</td>\n",
       "      <td>0</td>\n",
       "      <td>0</td>\n",
       "      <td>1</td>\n",
       "      <td>0</td>\n",
       "      <td>0</td>\n",
       "      <td>3fc1c97e5</td>\n",
       "    </tr>\n",
       "    <tr>\n",
       "      <th>1.2.826.0.1.3680043.8.498.68286643202323212801283518367144358744</th>\n",
       "      <td>0</td>\n",
       "      <td>0</td>\n",
       "      <td>0</td>\n",
       "      <td>0</td>\n",
       "      <td>0</td>\n",
       "      <td>0</td>\n",
       "      <td>0</td>\n",
       "      <td>1</td>\n",
       "      <td>0</td>\n",
       "      <td>0</td>\n",
       "      <td>0</td>\n",
       "      <td>c31019814</td>\n",
       "    </tr>\n",
       "    <tr>\n",
       "      <th>1.2.826.0.1.3680043.8.498.10050203009225938259119000528814762175</th>\n",
       "      <td>0</td>\n",
       "      <td>0</td>\n",
       "      <td>0</td>\n",
       "      <td>0</td>\n",
       "      <td>0</td>\n",
       "      <td>0</td>\n",
       "      <td>0</td>\n",
       "      <td>0</td>\n",
       "      <td>0</td>\n",
       "      <td>1</td>\n",
       "      <td>0</td>\n",
       "      <td>207685cd1</td>\n",
       "    </tr>\n",
       "  </tbody>\n",
       "</table>\n",
       "</div>"
      ],
      "text/plain": [
       "                                                    ETT - Abnormal  \\\n",
       "StudyInstanceUID                                                     \n",
       "1.2.826.0.1.3680043.8.498.266976289532732281893...               0   \n",
       "1.2.826.0.1.3680043.8.498.463028915973987587598...               0   \n",
       "1.2.826.0.1.3680043.8.498.238192607197484948589...               0   \n",
       "1.2.826.0.1.3680043.8.498.682866432023232128012...               0   \n",
       "1.2.826.0.1.3680043.8.498.100502030092259382591...               0   \n",
       "\n",
       "                                                    ETT - Borderline  \\\n",
       "StudyInstanceUID                                                       \n",
       "1.2.826.0.1.3680043.8.498.266976289532732281893...                 0   \n",
       "1.2.826.0.1.3680043.8.498.463028915973987587598...                 0   \n",
       "1.2.826.0.1.3680043.8.498.238192607197484948589...                 0   \n",
       "1.2.826.0.1.3680043.8.498.682866432023232128012...                 0   \n",
       "1.2.826.0.1.3680043.8.498.100502030092259382591...                 0   \n",
       "\n",
       "                                                    ETT - Normal  \\\n",
       "StudyInstanceUID                                                   \n",
       "1.2.826.0.1.3680043.8.498.266976289532732281893...             0   \n",
       "1.2.826.0.1.3680043.8.498.463028915973987587598...             1   \n",
       "1.2.826.0.1.3680043.8.498.238192607197484948589...             0   \n",
       "1.2.826.0.1.3680043.8.498.682866432023232128012...             0   \n",
       "1.2.826.0.1.3680043.8.498.100502030092259382591...             0   \n",
       "\n",
       "                                                    NGT - Abnormal  \\\n",
       "StudyInstanceUID                                                     \n",
       "1.2.826.0.1.3680043.8.498.266976289532732281893...               0   \n",
       "1.2.826.0.1.3680043.8.498.463028915973987587598...               0   \n",
       "1.2.826.0.1.3680043.8.498.238192607197484948589...               0   \n",
       "1.2.826.0.1.3680043.8.498.682866432023232128012...               0   \n",
       "1.2.826.0.1.3680043.8.498.100502030092259382591...               0   \n",
       "\n",
       "                                                    NGT - Borderline  \\\n",
       "StudyInstanceUID                                                       \n",
       "1.2.826.0.1.3680043.8.498.266976289532732281893...                 0   \n",
       "1.2.826.0.1.3680043.8.498.463028915973987587598...                 0   \n",
       "1.2.826.0.1.3680043.8.498.238192607197484948589...                 0   \n",
       "1.2.826.0.1.3680043.8.498.682866432023232128012...                 0   \n",
       "1.2.826.0.1.3680043.8.498.100502030092259382591...                 0   \n",
       "\n",
       "                                                    NGT - Incompletely Imaged  \\\n",
       "StudyInstanceUID                                                                \n",
       "1.2.826.0.1.3680043.8.498.266976289532732281893...                          0   \n",
       "1.2.826.0.1.3680043.8.498.463028915973987587598...                          1   \n",
       "1.2.826.0.1.3680043.8.498.238192607197484948589...                          0   \n",
       "1.2.826.0.1.3680043.8.498.682866432023232128012...                          0   \n",
       "1.2.826.0.1.3680043.8.498.100502030092259382591...                          0   \n",
       "\n",
       "                                                    NGT - Normal  \\\n",
       "StudyInstanceUID                                                   \n",
       "1.2.826.0.1.3680043.8.498.266976289532732281893...             1   \n",
       "1.2.826.0.1.3680043.8.498.463028915973987587598...             0   \n",
       "1.2.826.0.1.3680043.8.498.238192607197484948589...             0   \n",
       "1.2.826.0.1.3680043.8.498.682866432023232128012...             0   \n",
       "1.2.826.0.1.3680043.8.498.100502030092259382591...             0   \n",
       "\n",
       "                                                    CVC - Abnormal  \\\n",
       "StudyInstanceUID                                                     \n",
       "1.2.826.0.1.3680043.8.498.266976289532732281893...               0   \n",
       "1.2.826.0.1.3680043.8.498.463028915973987587598...               0   \n",
       "1.2.826.0.1.3680043.8.498.238192607197484948589...               0   \n",
       "1.2.826.0.1.3680043.8.498.682866432023232128012...               1   \n",
       "1.2.826.0.1.3680043.8.498.100502030092259382591...               0   \n",
       "\n",
       "                                                    CVC - Borderline  \\\n",
       "StudyInstanceUID                                                       \n",
       "1.2.826.0.1.3680043.8.498.266976289532732281893...                 0   \n",
       "1.2.826.0.1.3680043.8.498.463028915973987587598...                 0   \n",
       "1.2.826.0.1.3680043.8.498.238192607197484948589...                 1   \n",
       "1.2.826.0.1.3680043.8.498.682866432023232128012...                 0   \n",
       "1.2.826.0.1.3680043.8.498.100502030092259382591...                 0   \n",
       "\n",
       "                                                    CVC - Normal  \\\n",
       "StudyInstanceUID                                                   \n",
       "1.2.826.0.1.3680043.8.498.266976289532732281893...             0   \n",
       "1.2.826.0.1.3680043.8.498.463028915973987587598...             1   \n",
       "1.2.826.0.1.3680043.8.498.238192607197484948589...             0   \n",
       "1.2.826.0.1.3680043.8.498.682866432023232128012...             0   \n",
       "1.2.826.0.1.3680043.8.498.100502030092259382591...             1   \n",
       "\n",
       "                                                    Swan Ganz Catheter Present  \\\n",
       "StudyInstanceUID                                                                 \n",
       "1.2.826.0.1.3680043.8.498.266976289532732281893...                           0   \n",
       "1.2.826.0.1.3680043.8.498.463028915973987587598...                           0   \n",
       "1.2.826.0.1.3680043.8.498.238192607197484948589...                           0   \n",
       "1.2.826.0.1.3680043.8.498.682866432023232128012...                           0   \n",
       "1.2.826.0.1.3680043.8.498.100502030092259382591...                           0   \n",
       "\n",
       "                                                    PatientID  \n",
       "StudyInstanceUID                                               \n",
       "1.2.826.0.1.3680043.8.498.266976289532732281893...  ec89415d1  \n",
       "1.2.826.0.1.3680043.8.498.463028915973987587598...  bf4c6da3c  \n",
       "1.2.826.0.1.3680043.8.498.238192607197484948589...  3fc1c97e5  \n",
       "1.2.826.0.1.3680043.8.498.682866432023232128012...  c31019814  \n",
       "1.2.826.0.1.3680043.8.498.100502030092259382591...  207685cd1  "
      ]
     },
     "execution_count": 4,
     "metadata": {},
     "output_type": "execute_result"
    }
   ],
   "source": [
    "train_df = pd.read_csv(train_data_path).set_index('StudyInstanceUID')\n",
    "train_df.head()"
   ]
  },
  {
   "cell_type": "markdown",
   "metadata": {},
   "source": [
    "### Basic properties of the dataset"
   ]
  },
  {
   "cell_type": "code",
   "execution_count": 5,
   "metadata": {},
   "outputs": [
    {
     "data": {
      "text/plain": [
       "(30083, 12)"
      ]
     },
     "execution_count": 5,
     "metadata": {},
     "output_type": "execute_result"
    }
   ],
   "source": [
    "train_df.shape"
   ]
  },
  {
   "cell_type": "code",
   "execution_count": 6,
   "metadata": {},
   "outputs": [
    {
     "data": {
      "text/plain": [
       "0    29253\n",
       "1      830\n",
       "Name: Swan Ganz Catheter Present, dtype: int64"
      ]
     },
     "execution_count": 6,
     "metadata": {},
     "output_type": "execute_result"
    }
   ],
   "source": [
    "train_df['Swan Ganz Catheter Present'].value_counts()"
   ]
  },
  {
   "cell_type": "code",
   "execution_count": 7,
   "metadata": {},
   "outputs": [
    {
     "data": {
      "text/plain": [
       "3255"
      ]
     },
     "execution_count": 7,
     "metadata": {},
     "output_type": "execute_result"
    }
   ],
   "source": [
    "len(train_df['PatientID'].unique())"
   ]
  },
  {
   "cell_type": "code",
   "execution_count": 8,
   "metadata": {},
   "outputs": [
    {
     "data": {
      "text/html": [
       "<div>\n",
       "<style scoped>\n",
       "    .dataframe tbody tr th:only-of-type {\n",
       "        vertical-align: middle;\n",
       "    }\n",
       "\n",
       "    .dataframe tbody tr th {\n",
       "        vertical-align: top;\n",
       "    }\n",
       "\n",
       "    .dataframe thead th {\n",
       "        text-align: right;\n",
       "    }\n",
       "</style>\n",
       "<table border=\"1\" class=\"dataframe\">\n",
       "  <thead>\n",
       "    <tr style=\"text-align: right;\">\n",
       "      <th></th>\n",
       "      <th>ETT - Abnormal</th>\n",
       "      <th>ETT - Borderline</th>\n",
       "      <th>ETT - Normal</th>\n",
       "      <th>NGT - Abnormal</th>\n",
       "      <th>NGT - Borderline</th>\n",
       "      <th>NGT - Incompletely Imaged</th>\n",
       "      <th>NGT - Normal</th>\n",
       "      <th>CVC - Abnormal</th>\n",
       "      <th>CVC - Borderline</th>\n",
       "      <th>CVC - Normal</th>\n",
       "      <th>Swan Ganz Catheter Present</th>\n",
       "      <th>PatientID</th>\n",
       "    </tr>\n",
       "    <tr>\n",
       "      <th>StudyInstanceUID</th>\n",
       "      <th></th>\n",
       "      <th></th>\n",
       "      <th></th>\n",
       "      <th></th>\n",
       "      <th></th>\n",
       "      <th></th>\n",
       "      <th></th>\n",
       "      <th></th>\n",
       "      <th></th>\n",
       "      <th></th>\n",
       "      <th></th>\n",
       "      <th></th>\n",
       "    </tr>\n",
       "  </thead>\n",
       "  <tbody>\n",
       "    <tr>\n",
       "      <th>1.2.826.0.1.3680043.8.498.46302891597398758759818628675365157729</th>\n",
       "      <td>0</td>\n",
       "      <td>0</td>\n",
       "      <td>1</td>\n",
       "      <td>0</td>\n",
       "      <td>0</td>\n",
       "      <td>1</td>\n",
       "      <td>0</td>\n",
       "      <td>0</td>\n",
       "      <td>0</td>\n",
       "      <td>1</td>\n",
       "      <td>0</td>\n",
       "      <td>bf4c6da3c</td>\n",
       "    </tr>\n",
       "    <tr>\n",
       "      <th>1.2.826.0.1.3680043.8.498.11707076266253086830850990314496191758</th>\n",
       "      <td>0</td>\n",
       "      <td>0</td>\n",
       "      <td>1</td>\n",
       "      <td>0</td>\n",
       "      <td>0</td>\n",
       "      <td>0</td>\n",
       "      <td>1</td>\n",
       "      <td>0</td>\n",
       "      <td>0</td>\n",
       "      <td>1</td>\n",
       "      <td>0</td>\n",
       "      <td>8260896cf</td>\n",
       "    </tr>\n",
       "    <tr>\n",
       "      <th>1.2.826.0.1.3680043.8.498.17332833449968516367349904809269946843</th>\n",
       "      <td>0</td>\n",
       "      <td>0</td>\n",
       "      <td>1</td>\n",
       "      <td>0</td>\n",
       "      <td>0</td>\n",
       "      <td>0</td>\n",
       "      <td>1</td>\n",
       "      <td>0</td>\n",
       "      <td>1</td>\n",
       "      <td>0</td>\n",
       "      <td>0</td>\n",
       "      <td>27413587b</td>\n",
       "    </tr>\n",
       "    <tr>\n",
       "      <th>1.2.826.0.1.3680043.8.498.21553435248897151659092231631371824902</th>\n",
       "      <td>0</td>\n",
       "      <td>0</td>\n",
       "      <td>1</td>\n",
       "      <td>1</td>\n",
       "      <td>0</td>\n",
       "      <td>0</td>\n",
       "      <td>1</td>\n",
       "      <td>0</td>\n",
       "      <td>0</td>\n",
       "      <td>1</td>\n",
       "      <td>0</td>\n",
       "      <td>00f261590</td>\n",
       "    </tr>\n",
       "    <tr>\n",
       "      <th>1.2.826.0.1.3680043.8.498.10129559062963528496643969105849375477</th>\n",
       "      <td>0</td>\n",
       "      <td>0</td>\n",
       "      <td>1</td>\n",
       "      <td>0</td>\n",
       "      <td>0</td>\n",
       "      <td>0</td>\n",
       "      <td>1</td>\n",
       "      <td>1</td>\n",
       "      <td>0</td>\n",
       "      <td>0</td>\n",
       "      <td>0</td>\n",
       "      <td>9ebe3d714</td>\n",
       "    </tr>\n",
       "    <tr>\n",
       "      <th>...</th>\n",
       "      <td>...</td>\n",
       "      <td>...</td>\n",
       "      <td>...</td>\n",
       "      <td>...</td>\n",
       "      <td>...</td>\n",
       "      <td>...</td>\n",
       "      <td>...</td>\n",
       "      <td>...</td>\n",
       "      <td>...</td>\n",
       "      <td>...</td>\n",
       "      <td>...</td>\n",
       "      <td>...</td>\n",
       "    </tr>\n",
       "    <tr>\n",
       "      <th>1.2.826.0.1.3680043.8.498.98624384591890799789137007864255068006</th>\n",
       "      <td>0</td>\n",
       "      <td>0</td>\n",
       "      <td>1</td>\n",
       "      <td>0</td>\n",
       "      <td>0</td>\n",
       "      <td>1</td>\n",
       "      <td>0</td>\n",
       "      <td>1</td>\n",
       "      <td>0</td>\n",
       "      <td>1</td>\n",
       "      <td>0</td>\n",
       "      <td>5733c2458</td>\n",
       "    </tr>\n",
       "    <tr>\n",
       "      <th>1.2.826.0.1.3680043.8.498.67810475638153448553533618534413783631</th>\n",
       "      <td>0</td>\n",
       "      <td>0</td>\n",
       "      <td>1</td>\n",
       "      <td>0</td>\n",
       "      <td>0</td>\n",
       "      <td>0</td>\n",
       "      <td>1</td>\n",
       "      <td>0</td>\n",
       "      <td>0</td>\n",
       "      <td>0</td>\n",
       "      <td>0</td>\n",
       "      <td>bc1d59b76</td>\n",
       "    </tr>\n",
       "    <tr>\n",
       "      <th>1.2.826.0.1.3680043.8.498.74257566841157531124733571365206980234</th>\n",
       "      <td>0</td>\n",
       "      <td>0</td>\n",
       "      <td>1</td>\n",
       "      <td>0</td>\n",
       "      <td>0</td>\n",
       "      <td>0</td>\n",
       "      <td>0</td>\n",
       "      <td>0</td>\n",
       "      <td>1</td>\n",
       "      <td>1</td>\n",
       "      <td>0</td>\n",
       "      <td>5b5b9ac30</td>\n",
       "    </tr>\n",
       "    <tr>\n",
       "      <th>1.2.826.0.1.3680043.8.498.43173270582850645437451931712017243531</th>\n",
       "      <td>0</td>\n",
       "      <td>0</td>\n",
       "      <td>1</td>\n",
       "      <td>0</td>\n",
       "      <td>0</td>\n",
       "      <td>1</td>\n",
       "      <td>0</td>\n",
       "      <td>1</td>\n",
       "      <td>0</td>\n",
       "      <td>1</td>\n",
       "      <td>0</td>\n",
       "      <td>d4d1b066d</td>\n",
       "    </tr>\n",
       "    <tr>\n",
       "      <th>1.2.826.0.1.3680043.8.498.99518162226171269731026325462883860316</th>\n",
       "      <td>0</td>\n",
       "      <td>0</td>\n",
       "      <td>1</td>\n",
       "      <td>0</td>\n",
       "      <td>0</td>\n",
       "      <td>0</td>\n",
       "      <td>0</td>\n",
       "      <td>0</td>\n",
       "      <td>0</td>\n",
       "      <td>1</td>\n",
       "      <td>0</td>\n",
       "      <td>e692d316c</td>\n",
       "    </tr>\n",
       "  </tbody>\n",
       "</table>\n",
       "<p>7240 rows × 12 columns</p>\n",
       "</div>"
      ],
      "text/plain": [
       "                                                    ETT - Abnormal  \\\n",
       "StudyInstanceUID                                                     \n",
       "1.2.826.0.1.3680043.8.498.463028915973987587598...               0   \n",
       "1.2.826.0.1.3680043.8.498.117070762662530868308...               0   \n",
       "1.2.826.0.1.3680043.8.498.173328334499685163673...               0   \n",
       "1.2.826.0.1.3680043.8.498.215534352488971516590...               0   \n",
       "1.2.826.0.1.3680043.8.498.101295590629635284966...               0   \n",
       "...                                                            ...   \n",
       "1.2.826.0.1.3680043.8.498.986243845918907997891...               0   \n",
       "1.2.826.0.1.3680043.8.498.678104756381534485535...               0   \n",
       "1.2.826.0.1.3680043.8.498.742575668411575311247...               0   \n",
       "1.2.826.0.1.3680043.8.498.431732705828506454374...               0   \n",
       "1.2.826.0.1.3680043.8.498.995181622261712697310...               0   \n",
       "\n",
       "                                                    ETT - Borderline  \\\n",
       "StudyInstanceUID                                                       \n",
       "1.2.826.0.1.3680043.8.498.463028915973987587598...                 0   \n",
       "1.2.826.0.1.3680043.8.498.117070762662530868308...                 0   \n",
       "1.2.826.0.1.3680043.8.498.173328334499685163673...                 0   \n",
       "1.2.826.0.1.3680043.8.498.215534352488971516590...                 0   \n",
       "1.2.826.0.1.3680043.8.498.101295590629635284966...                 0   \n",
       "...                                                              ...   \n",
       "1.2.826.0.1.3680043.8.498.986243845918907997891...                 0   \n",
       "1.2.826.0.1.3680043.8.498.678104756381534485535...                 0   \n",
       "1.2.826.0.1.3680043.8.498.742575668411575311247...                 0   \n",
       "1.2.826.0.1.3680043.8.498.431732705828506454374...                 0   \n",
       "1.2.826.0.1.3680043.8.498.995181622261712697310...                 0   \n",
       "\n",
       "                                                    ETT - Normal  \\\n",
       "StudyInstanceUID                                                   \n",
       "1.2.826.0.1.3680043.8.498.463028915973987587598...             1   \n",
       "1.2.826.0.1.3680043.8.498.117070762662530868308...             1   \n",
       "1.2.826.0.1.3680043.8.498.173328334499685163673...             1   \n",
       "1.2.826.0.1.3680043.8.498.215534352488971516590...             1   \n",
       "1.2.826.0.1.3680043.8.498.101295590629635284966...             1   \n",
       "...                                                          ...   \n",
       "1.2.826.0.1.3680043.8.498.986243845918907997891...             1   \n",
       "1.2.826.0.1.3680043.8.498.678104756381534485535...             1   \n",
       "1.2.826.0.1.3680043.8.498.742575668411575311247...             1   \n",
       "1.2.826.0.1.3680043.8.498.431732705828506454374...             1   \n",
       "1.2.826.0.1.3680043.8.498.995181622261712697310...             1   \n",
       "\n",
       "                                                    NGT - Abnormal  \\\n",
       "StudyInstanceUID                                                     \n",
       "1.2.826.0.1.3680043.8.498.463028915973987587598...               0   \n",
       "1.2.826.0.1.3680043.8.498.117070762662530868308...               0   \n",
       "1.2.826.0.1.3680043.8.498.173328334499685163673...               0   \n",
       "1.2.826.0.1.3680043.8.498.215534352488971516590...               1   \n",
       "1.2.826.0.1.3680043.8.498.101295590629635284966...               0   \n",
       "...                                                            ...   \n",
       "1.2.826.0.1.3680043.8.498.986243845918907997891...               0   \n",
       "1.2.826.0.1.3680043.8.498.678104756381534485535...               0   \n",
       "1.2.826.0.1.3680043.8.498.742575668411575311247...               0   \n",
       "1.2.826.0.1.3680043.8.498.431732705828506454374...               0   \n",
       "1.2.826.0.1.3680043.8.498.995181622261712697310...               0   \n",
       "\n",
       "                                                    NGT - Borderline  \\\n",
       "StudyInstanceUID                                                       \n",
       "1.2.826.0.1.3680043.8.498.463028915973987587598...                 0   \n",
       "1.2.826.0.1.3680043.8.498.117070762662530868308...                 0   \n",
       "1.2.826.0.1.3680043.8.498.173328334499685163673...                 0   \n",
       "1.2.826.0.1.3680043.8.498.215534352488971516590...                 0   \n",
       "1.2.826.0.1.3680043.8.498.101295590629635284966...                 0   \n",
       "...                                                              ...   \n",
       "1.2.826.0.1.3680043.8.498.986243845918907997891...                 0   \n",
       "1.2.826.0.1.3680043.8.498.678104756381534485535...                 0   \n",
       "1.2.826.0.1.3680043.8.498.742575668411575311247...                 0   \n",
       "1.2.826.0.1.3680043.8.498.431732705828506454374...                 0   \n",
       "1.2.826.0.1.3680043.8.498.995181622261712697310...                 0   \n",
       "\n",
       "                                                    NGT - Incompletely Imaged  \\\n",
       "StudyInstanceUID                                                                \n",
       "1.2.826.0.1.3680043.8.498.463028915973987587598...                          1   \n",
       "1.2.826.0.1.3680043.8.498.117070762662530868308...                          0   \n",
       "1.2.826.0.1.3680043.8.498.173328334499685163673...                          0   \n",
       "1.2.826.0.1.3680043.8.498.215534352488971516590...                          0   \n",
       "1.2.826.0.1.3680043.8.498.101295590629635284966...                          0   \n",
       "...                                                                       ...   \n",
       "1.2.826.0.1.3680043.8.498.986243845918907997891...                          1   \n",
       "1.2.826.0.1.3680043.8.498.678104756381534485535...                          0   \n",
       "1.2.826.0.1.3680043.8.498.742575668411575311247...                          0   \n",
       "1.2.826.0.1.3680043.8.498.431732705828506454374...                          1   \n",
       "1.2.826.0.1.3680043.8.498.995181622261712697310...                          0   \n",
       "\n",
       "                                                    NGT - Normal  \\\n",
       "StudyInstanceUID                                                   \n",
       "1.2.826.0.1.3680043.8.498.463028915973987587598...             0   \n",
       "1.2.826.0.1.3680043.8.498.117070762662530868308...             1   \n",
       "1.2.826.0.1.3680043.8.498.173328334499685163673...             1   \n",
       "1.2.826.0.1.3680043.8.498.215534352488971516590...             1   \n",
       "1.2.826.0.1.3680043.8.498.101295590629635284966...             1   \n",
       "...                                                          ...   \n",
       "1.2.826.0.1.3680043.8.498.986243845918907997891...             0   \n",
       "1.2.826.0.1.3680043.8.498.678104756381534485535...             1   \n",
       "1.2.826.0.1.3680043.8.498.742575668411575311247...             0   \n",
       "1.2.826.0.1.3680043.8.498.431732705828506454374...             0   \n",
       "1.2.826.0.1.3680043.8.498.995181622261712697310...             0   \n",
       "\n",
       "                                                    CVC - Abnormal  \\\n",
       "StudyInstanceUID                                                     \n",
       "1.2.826.0.1.3680043.8.498.463028915973987587598...               0   \n",
       "1.2.826.0.1.3680043.8.498.117070762662530868308...               0   \n",
       "1.2.826.0.1.3680043.8.498.173328334499685163673...               0   \n",
       "1.2.826.0.1.3680043.8.498.215534352488971516590...               0   \n",
       "1.2.826.0.1.3680043.8.498.101295590629635284966...               1   \n",
       "...                                                            ...   \n",
       "1.2.826.0.1.3680043.8.498.986243845918907997891...               1   \n",
       "1.2.826.0.1.3680043.8.498.678104756381534485535...               0   \n",
       "1.2.826.0.1.3680043.8.498.742575668411575311247...               0   \n",
       "1.2.826.0.1.3680043.8.498.431732705828506454374...               1   \n",
       "1.2.826.0.1.3680043.8.498.995181622261712697310...               0   \n",
       "\n",
       "                                                    CVC - Borderline  \\\n",
       "StudyInstanceUID                                                       \n",
       "1.2.826.0.1.3680043.8.498.463028915973987587598...                 0   \n",
       "1.2.826.0.1.3680043.8.498.117070762662530868308...                 0   \n",
       "1.2.826.0.1.3680043.8.498.173328334499685163673...                 1   \n",
       "1.2.826.0.1.3680043.8.498.215534352488971516590...                 0   \n",
       "1.2.826.0.1.3680043.8.498.101295590629635284966...                 0   \n",
       "...                                                              ...   \n",
       "1.2.826.0.1.3680043.8.498.986243845918907997891...                 0   \n",
       "1.2.826.0.1.3680043.8.498.678104756381534485535...                 0   \n",
       "1.2.826.0.1.3680043.8.498.742575668411575311247...                 1   \n",
       "1.2.826.0.1.3680043.8.498.431732705828506454374...                 0   \n",
       "1.2.826.0.1.3680043.8.498.995181622261712697310...                 0   \n",
       "\n",
       "                                                    CVC - Normal  \\\n",
       "StudyInstanceUID                                                   \n",
       "1.2.826.0.1.3680043.8.498.463028915973987587598...             1   \n",
       "1.2.826.0.1.3680043.8.498.117070762662530868308...             1   \n",
       "1.2.826.0.1.3680043.8.498.173328334499685163673...             0   \n",
       "1.2.826.0.1.3680043.8.498.215534352488971516590...             1   \n",
       "1.2.826.0.1.3680043.8.498.101295590629635284966...             0   \n",
       "...                                                          ...   \n",
       "1.2.826.0.1.3680043.8.498.986243845918907997891...             1   \n",
       "1.2.826.0.1.3680043.8.498.678104756381534485535...             0   \n",
       "1.2.826.0.1.3680043.8.498.742575668411575311247...             1   \n",
       "1.2.826.0.1.3680043.8.498.431732705828506454374...             1   \n",
       "1.2.826.0.1.3680043.8.498.995181622261712697310...             1   \n",
       "\n",
       "                                                    Swan Ganz Catheter Present  \\\n",
       "StudyInstanceUID                                                                 \n",
       "1.2.826.0.1.3680043.8.498.463028915973987587598...                           0   \n",
       "1.2.826.0.1.3680043.8.498.117070762662530868308...                           0   \n",
       "1.2.826.0.1.3680043.8.498.173328334499685163673...                           0   \n",
       "1.2.826.0.1.3680043.8.498.215534352488971516590...                           0   \n",
       "1.2.826.0.1.3680043.8.498.101295590629635284966...                           0   \n",
       "...                                                                        ...   \n",
       "1.2.826.0.1.3680043.8.498.986243845918907997891...                           0   \n",
       "1.2.826.0.1.3680043.8.498.678104756381534485535...                           0   \n",
       "1.2.826.0.1.3680043.8.498.742575668411575311247...                           0   \n",
       "1.2.826.0.1.3680043.8.498.431732705828506454374...                           0   \n",
       "1.2.826.0.1.3680043.8.498.995181622261712697310...                           0   \n",
       "\n",
       "                                                    PatientID  \n",
       "StudyInstanceUID                                               \n",
       "1.2.826.0.1.3680043.8.498.463028915973987587598...  bf4c6da3c  \n",
       "1.2.826.0.1.3680043.8.498.117070762662530868308...  8260896cf  \n",
       "1.2.826.0.1.3680043.8.498.173328334499685163673...  27413587b  \n",
       "1.2.826.0.1.3680043.8.498.215534352488971516590...  00f261590  \n",
       "1.2.826.0.1.3680043.8.498.101295590629635284966...  9ebe3d714  \n",
       "...                                                       ...  \n",
       "1.2.826.0.1.3680043.8.498.986243845918907997891...  5733c2458  \n",
       "1.2.826.0.1.3680043.8.498.678104756381534485535...  bc1d59b76  \n",
       "1.2.826.0.1.3680043.8.498.742575668411575311247...  5b5b9ac30  \n",
       "1.2.826.0.1.3680043.8.498.431732705828506454374...  d4d1b066d  \n",
       "1.2.826.0.1.3680043.8.498.995181622261712697310...  e692d316c  \n",
       "\n",
       "[7240 rows x 12 columns]"
      ]
     },
     "execution_count": 8,
     "metadata": {},
     "output_type": "execute_result"
    }
   ],
   "source": [
    "train_df.loc[train_df['ETT - Normal']==1]"
   ]
  },
  {
   "cell_type": "markdown",
   "metadata": {},
   "source": [
    "#### Basic properties summary:\n",
    "- There are 30083 unique images in the training set\n",
    "- There are only 3255 unique patients in the dataset\n",
    "\n",
    "- Breakdown of different categories:\n",
    "    - Total number of images with ETT: 8457\n",
    "        - ETT - Abnormal: 79\n",
    "        - ETT - Borderline: 1138\n",
    "        - ETT - Normal: 7240\n",
    "    - Total number of images with NGT: 8353\n",
    "        - NGT - Abnormal: 279\n",
    "        - NGT - Borderline: 529\n",
    "        - NGT - Incompletely Imaged: 2748\n",
    "        - NGT - Normal: 4797\n",
    "    - Total number of images with CVC: 20414\n",
    "        - CVC - Abnormal: 3195\n",
    "        - CVC - Borderline: 8460\n",
    "        - CVC - Normal: 8759\n",
    "    - Swan Ganz Catheter Present: 830\n",
    "    \n"
   ]
  },
  {
   "cell_type": "markdown",
   "metadata": {},
   "source": [
    "### Influence of patientID"
   ]
  },
  {
   "cell_type": "markdown",
   "metadata": {},
   "source": [
    "#### Number of records per patient"
   ]
  },
  {
   "cell_type": "code",
   "execution_count": 9,
   "metadata": {},
   "outputs": [
    {
     "data": {
      "text/plain": [
       "<matplotlib.axes._subplots.AxesSubplot at 0x10269be10>"
      ]
     },
     "execution_count": 9,
     "metadata": {},
     "output_type": "execute_result"
    },
    {
     "data": {
      "image/png": "[encoded data removed]",
      "text/plain": [
       "<Figure size 432x288 with 1 Axes>"
      ]
     },
     "metadata": {
      "needs_background": "light"
     },
     "output_type": "display_data"
    }
   ],
   "source": [
    "train_df.groupby(['PatientID']).size().plot.hist()"
   ]
  },
  {
   "cell_type": "code",
   "execution_count": 10,
   "metadata": {},
   "outputs": [
    {
     "data": {
      "text/plain": [
       "count    3255.000000\n",
       "mean        9.242089\n",
       "std        12.624028\n",
       "min         1.000000\n",
       "25%         3.000000\n",
       "50%         5.000000\n",
       "75%        10.000000\n",
       "max       172.000000\n",
       "dtype: float64"
      ]
     },
     "execution_count": 10,
     "metadata": {},
     "output_type": "execute_result"
    }
   ],
   "source": [
    "train_df.groupby(['PatientID']).size().describe()"
   ]
  },
  {
   "cell_type": "markdown",
   "metadata": {},
   "source": [
    "## Train_annotations.csv"
   ]
  },
  {
   "cell_type": "code",
   "execution_count": 11,
   "metadata": {},
   "outputs": [],
   "source": [
    "train_annotations_data_path = raw_data_path / 'train_annotations.csv'"
   ]
  },
  {
   "cell_type": "code",
   "execution_count": 12,
   "metadata": {},
   "outputs": [
    {
     "data": {
      "text/html": [
       "<div>\n",
       "<style scoped>\n",
       "    .dataframe tbody tr th:only-of-type {\n",
       "        vertical-align: middle;\n",
       "    }\n",
       "\n",
       "    .dataframe tbody tr th {\n",
       "        vertical-align: top;\n",
       "    }\n",
       "\n",
       "    .dataframe thead th {\n",
       "        text-align: right;\n",
       "    }\n",
       "</style>\n",
       "<table border=\"1\" class=\"dataframe\">\n",
       "  <thead>\n",
       "    <tr style=\"text-align: right;\">\n",
       "      <th></th>\n",
       "      <th>StudyInstanceUID</th>\n",
       "      <th>label</th>\n",
       "      <th>data</th>\n",
       "    </tr>\n",
       "  </thead>\n",
       "  <tbody>\n",
       "    <tr>\n",
       "      <th>0</th>\n",
       "      <td>1.2.826.0.1.3680043.8.498.12616281126973421762...</td>\n",
       "      <td>CVC - Normal</td>\n",
       "      <td>[[1487, 1279], [1477, 1168], [1472, 1052], [14...</td>\n",
       "    </tr>\n",
       "    <tr>\n",
       "      <th>1</th>\n",
       "      <td>1.2.826.0.1.3680043.8.498.12616281126973421762...</td>\n",
       "      <td>CVC - Normal</td>\n",
       "      <td>[[1328, 7], [1347, 101], [1383, 193], [1400, 2...</td>\n",
       "    </tr>\n",
       "    <tr>\n",
       "      <th>2</th>\n",
       "      <td>1.2.826.0.1.3680043.8.498.72921907356394389969...</td>\n",
       "      <td>CVC - Borderline</td>\n",
       "      <td>[[801, 1207], [812, 1112], [823, 1023], [842, ...</td>\n",
       "    </tr>\n",
       "    <tr>\n",
       "      <th>3</th>\n",
       "      <td>1.2.826.0.1.3680043.8.498.11697104485452001927...</td>\n",
       "      <td>CVC - Normal</td>\n",
       "      <td>[[1366, 961], [1411, 861], [1453, 751], [1508,...</td>\n",
       "    </tr>\n",
       "    <tr>\n",
       "      <th>4</th>\n",
       "      <td>1.2.826.0.1.3680043.8.498.87704688663091069148...</td>\n",
       "      <td>NGT - Normal</td>\n",
       "      <td>[[1862, 14], [1845, 293], [1801, 869], [1716, ...</td>\n",
       "    </tr>\n",
       "  </tbody>\n",
       "</table>\n",
       "</div>"
      ],
      "text/plain": [
       "                                    StudyInstanceUID             label  \\\n",
       "0  1.2.826.0.1.3680043.8.498.12616281126973421762...      CVC - Normal   \n",
       "1  1.2.826.0.1.3680043.8.498.12616281126973421762...      CVC - Normal   \n",
       "2  1.2.826.0.1.3680043.8.498.72921907356394389969...  CVC - Borderline   \n",
       "3  1.2.826.0.1.3680043.8.498.11697104485452001927...      CVC - Normal   \n",
       "4  1.2.826.0.1.3680043.8.498.87704688663091069148...      NGT - Normal   \n",
       "\n",
       "                                                data  \n",
       "0  [[1487, 1279], [1477, 1168], [1472, 1052], [14...  \n",
       "1  [[1328, 7], [1347, 101], [1383, 193], [1400, 2...  \n",
       "2  [[801, 1207], [812, 1112], [823, 1023], [842, ...  \n",
       "3  [[1366, 961], [1411, 861], [1453, 751], [1508,...  \n",
       "4  [[1862, 14], [1845, 293], [1801, 869], [1716, ...  "
      ]
     },
     "execution_count": 12,
     "metadata": {},
     "output_type": "execute_result"
    }
   ],
   "source": [
    "train_annotations_df = pd.read_csv(train_annotations_data_path)\n",
    "train_annotations_df.head()"
   ]
  },
  {
   "cell_type": "markdown",
   "metadata": {},
   "source": [
    "### Basic properties of the dataset"
   ]
  },
  {
   "cell_type": "code",
   "execution_count": 13,
   "metadata": {},
   "outputs": [
    {
     "data": {
      "text/plain": [
       "(17999, 3)"
      ]
     },
     "execution_count": 13,
     "metadata": {},
     "output_type": "execute_result"
    }
   ],
   "source": [
    "train_annotations_df.shape"
   ]
  },
  {
   "cell_type": "code",
   "execution_count": 14,
   "metadata": {},
   "outputs": [
    {
     "data": {
      "text/plain": [
       "9095"
      ]
     },
     "execution_count": 14,
     "metadata": {},
     "output_type": "execute_result"
    }
   ],
   "source": [
    "len(train_annotations_df.StudyInstanceUID.unique())"
   ]
  },
  {
   "cell_type": "code",
   "execution_count": 15,
   "metadata": {},
   "outputs": [
    {
     "data": {
      "text/plain": [
       "label\n",
       "CVC - Abnormal                1206\n",
       "CVC - Borderline              2986\n",
       "CVC - Normal                  7437\n",
       "ETT - Abnormal                  30\n",
       "ETT - Borderline               428\n",
       "ETT - Normal                  2536\n",
       "NGT - Abnormal                 111\n",
       "NGT - Borderline               219\n",
       "NGT - Incompletely Imaged     1019\n",
       "NGT - Normal                  1870\n",
       "Swan Ganz Catheter Present     157\n",
       "dtype: int64"
      ]
     },
     "execution_count": 15,
     "metadata": {},
     "output_type": "execute_result"
    }
   ],
   "source": [
    "train_annotations_df.groupby(['label']).size()"
   ]
  },
  {
   "cell_type": "markdown",
   "metadata": {},
   "source": [
    "##### What are the pairs of values in the data column?"
   ]
  },
  {
   "cell_type": "code",
   "execution_count": 16,
   "metadata": {},
   "outputs": [
    {
     "name": "stderr",
     "output_type": "stream",
     "text": [
      "Using TensorFlow backend.\n"
     ]
    }
   ],
   "source": [
    "from keras.preprocessing import image"
   ]
  },
  {
   "cell_type": "code",
   "execution_count": 17,
   "metadata": {},
   "outputs": [],
   "source": [
    "img_to_fnames = {fname.rsplit(\".\", 1)[0] : os.path.join(raw_image_data_path, fname) for fname in os.listdir(raw_image_data_path)}"
   ]
  },
  {
   "cell_type": "code",
   "execution_count": 30,
   "metadata": {},
   "outputs": [],
   "source": [
    "img_index = 3\n",
    "\n",
    "img_ID = train_annotations_df.iloc[img_index]['StudyInstanceUID']\n",
    "img_filepath = img_to_fnames[img_ID]\n",
    "img = image.load_img(img_filepath)\n",
    "img_as_array = image.img_to_array(img)\n",
    "\n",
    "pts = np.array(ast.literal_eval(train_annotations_df.iloc[img_index]['data']), np.int32)\n",
    "pts = pts.reshape((-1,1,2))\n",
    "img_as_array = cv2.polylines(img_as_array,[pts],False,(0,255,255), 2)\n"
   ]
  },
  {
   "cell_type": "code",
   "execution_count": 31,
   "metadata": {},
   "outputs": [],
   "source": [
    "image.array_to_img(img_as_array).show()"
   ]
  },
  {
   "cell_type": "code",
   "execution_count": 19,
   "metadata": {},
   "outputs": [
    {
     "data": {
      "text/plain": [
       "'[[1487, 1279], [1477, 1168], [1472, 1052], [1464, 924], [1453, 827], [1443, 755], [1434, 640], [1404, 514], [1387, 497], [1360, 541], [1290, 617], [1228, 696], [1179, 776], [1116, 880], [1065, 963], [1031, 999]]'"
      ]
     },
     "execution_count": 19,
     "metadata": {},
     "output_type": "execute_result"
    }
   ],
   "source": [
    "train_annotations_df.iloc[img_index]['data']"
   ]
  },
  {
   "cell_type": "markdown",
   "metadata": {},
   "source": [
    "#### Basic properties of train_annotations.csv summary\n",
    "- Total of 17999 annotation records\n",
    "- These 17999 annotations have been made on a total of 9095 unique images\n",
    "- We have annotation data for each of the 11 classes (albeit in different proportions - see above)\n",
    "- Basically, for each label, there is annotation data about what part of the picture (polyline) was used to give that label by a doctor"
   ]
  },
  {
   "cell_type": "markdown",
   "metadata": {},
   "source": [
    "## The Images themselves"
   ]
  },
  {
   "cell_type": "markdown",
   "metadata": {},
   "source": [
    "##### Checking dimensions of images"
   ]
  },
  {
   "cell_type": "code",
   "execution_count": 20,
   "metadata": {},
   "outputs": [],
   "source": [
    "from PIL import Image as pil_image"
   ]
  },
  {
   "cell_type": "code",
   "execution_count": 21,
   "metadata": {},
   "outputs": [],
   "source": [
    "image_sizes_count = defaultdict(int)"
   ]
  },
  {
   "cell_type": "code",
   "execution_count": 22,
   "metadata": {},
   "outputs": [],
   "source": [
    "# for img, path in img_to_fnames.items():\n",
    "#     loaded_img = pil_image.open(path)\n",
    "#     img_size = loaded_img.size\n",
    "#     image_sizes_count[img_size]=image_sizes_count[img_size] + 1\n",
    "\n",
    "\n",
    "# img = pil_image.open(img_to_fnames['1.2.826.0.1.3680043.8.498.16451034714945708059993280774682419855'])\n",
    "# print(img.size)"
   ]
  },
  {
   "cell_type": "code",
   "execution_count": 23,
   "metadata": {},
   "outputs": [
    {
     "data": {
      "text/plain": [
       "0"
      ]
     },
     "execution_count": 23,
     "metadata": {},
     "output_type": "execute_result"
    }
   ],
   "source": [
    "len(image_sizes_count.keys())"
   ]
  },
  {
   "cell_type": "markdown",
   "metadata": {},
   "source": [
    "#### Properties\n",
    "- They are in various sizes - total of 1650 image dimensions + who knows what other dimensions are in test set\n",
    "- Means that there is no standard image dimension for the Xrays"
   ]
  },
  {
   "cell_type": "code",
   "execution_count": null,
   "metadata": {},
   "outputs": [],
   "source": []
  },
  {
   "cell_type": "code",
   "execution_count": null,
   "metadata": {},
   "outputs": [],
   "source": []
  }
 ],
 "metadata": {
  "kernelspec": {
   "display_name": "Python 3",
   "language": "python",
   "name": "python3"
  },
  "language_info": {
   "codemirror_mode": {
    "name": "ipython",
    "version": 3
   },
   "file_extension": ".py",
   "mimetype": "text/x-python",
   "name": "python",
   "nbconvert_exporter": "python",
   "pygments_lexer": "ipython3",
   "version": "3.7.7"
  }
 },
 "nbformat": 4,
 "nbformat_minor": 4
}
